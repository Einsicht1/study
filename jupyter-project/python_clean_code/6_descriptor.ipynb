{
 "cells": [
  {
   "cell_type": "markdown",
   "metadata": {
    "collapsed": true,
    "pycharm": {
     "name": "#%% md\n"
    }
   },
   "source": [
    "# 디스크립터 개요\n",
    "- 디스크립터는 다른 언어에서도 생소한 개념이다.\n",
    "- 객체지향 수준을 끌어올려주는 혁신적인 기능이다.\n",
    "- 디스크립터를 활용해 견고하고 재사용성이 높은 추상화를 할 수 있다.\n",
    "- 라이브러리, 프레임워크에서도 많이 쓰인다.\n",
    "## 디스크립터 메커니즘\n",
    "- 디스크립터를 구현하기 위해 최소 두 클래스가 필요하다.\n",
    "    - 클라이언트 클래스: 디스크립터 구현의 기능을 활용할 도메인 모델.\n",
    "    - 디스크립터클래스: 디스크립터 로직의 구현체\n",
    "- ** 디스크립터는 디스크립터 프로토콜을 구현한 클래스의 인스턴스다. **\n",
    "### 디스크립터의 조건\n",
    "1. 아래 매직메서드 중 최소 한 개 이상을 구현해야 한다.\n",
    "    - `__get__`\n",
    "    - `__set__`\n",
    "    - `__delete__`\n",
    "    - `__set_name__`\n",
    "2. 디스크립터 객체가 클래스 속성으로 정의되어야 한다. 인스턴스 속성으로 정의되면 안된다.\n",
    "3. \n",
    "## 디스크립터 프로토콜의 메서드 탐색\n",
    "# 디스크립터의 유형\n",
    "## 비데이터(non-data) 디스크립터\n",
    "## 데이터 디스크립터\n",
    "# 디스크립터 실전\n",
    "## 디스크립터를 사용한 에플리케이션\n",
    "## 다른 형태의 디스크립터\n",
    "## 디스크립터에 대한 추가 고려사항\n",
    "# 디스크립터 분석\n",
    "## 파이썬 내부에서의 디스크립터 활용\n",
    "## 데코레이터를 디스크립터로 구현하기"
   ]
  }
 ],
 "metadata": {
  "kernelspec": {
   "display_name": "Python 3",
   "language": "python",
   "name": "python3"
  },
  "language_info": {
   "codemirror_mode": {
    "name": "ipython",
    "version": 2
   },
   "file_extension": ".py",
   "mimetype": "text/x-python",
   "name": "python",
   "nbconvert_exporter": "python",
   "pygments_lexer": "ipython2",
   "version": "2.7.6"
  }
 },
 "nbformat": 4,
 "nbformat_minor": 0
}