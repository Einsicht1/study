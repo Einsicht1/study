{
 "cells": [
  {
   "cell_type": "markdown",
   "metadata": {
    "collapsed": true,
    "pycharm": {
     "name": "#%% md\n"
    }
   },
   "source": [
    "# 제너레이터 사용하기\n",
    "- 제너레이터는 전통적인 언어와 파이썬을 구분 짓는 기능\n",
    "- 제너레이터는 코루틴, 비동기 프로그래밍같은 기능도 지원\n",
    "\n",
    "## 제너레이터 만들기\n",
    "- 제너레이터는 메모리를 적게 사용하는 반복을 위한 방법이다.\n",
    "- 제너레이터는 한 번에 하나씩 구성요소를 반환해주는 이터러블을 생성해주는 객체다.\n",
    "- 제너레이터는 메모리 절약을 위해 주로 사용한다.\n",
    "- 메모리에 한 번에 올리는 대신에, 필요할 때 하나씩만 가져온다.\n",
    "- 하스켈 같은 함수형 프로그래밍 언어도 비슷한 게으른 연산(lazy computation)을 사용해 무거운 객체를 사용할 수 있게 한다.\n",
    "- 이 특성 때문에 무한 시퀀스를 사용할 수도 있다.\n",
    "### 제너레이터 개요\n",
    "```\n",
    "from _generate_data import PURCHASES_FILE, create_purchases_file\n",
    "from log import logger\n",
    "\n",
    "\n",
    "class PurchasesStats:\n",
    "    def __init__(self, purchases):\n",
    "        self.purchases = iter(purchases)\n",
    "        self.min_price: float = None\n",
    "        self.max_price: float = None\n",
    "        self._total_purchases_price: float = 0.0\n",
    "        self._total_purchases = 0\n",
    "        self._initialize()\n",
    "\n",
    "    def _initialize(self):\n",
    "        try:\n",
    "            first_value = next(self.purchases)\n",
    "        except StopIteration:\n",
    "            raise ValueError(\"no values provided\")\n",
    "\n",
    "        self.min_price = self.max_price = first_value\n",
    "        self._update_avg(first_value)\n",
    "\n",
    "    def process(self):\n",
    "        for purchase_value in self.purchases:\n",
    "            self._update_min(purchase_value)\n",
    "            self._update_max(purchase_value)\n",
    "            self._update_avg(purchase_value)\n",
    "        return self\n",
    "\n",
    "    def _update_min(self, new_value: float):\n",
    "        if new_value < self.min_price:\n",
    "            self.min_price = new_value\n",
    "\n",
    "    def _update_max(self, new_value: float):\n",
    "        if new_value > self.max_price:\n",
    "            self.max_price = new_value\n",
    "\n",
    "    @property\n",
    "    def avg_price(self):\n",
    "        return self._total_purchases_price / self._total_purchases\n",
    "\n",
    "    def _update_avg(self, new_value: float):\n",
    "        self._total_purchases_price += new_value\n",
    "        self._total_purchases += 1\n",
    "\n",
    "    def __str__(self):\n",
    "        return (\n",
    "            f\"{self.__class__.__name__}({self.min_price}, \"\n",
    "            f\"{self.max_price}, {self.avg_price})\"\n",
    "        )\n",
    "\n",
    "# 이건 데이터 전체를 메모리에 올려서 비효율적이다.\n",
    "def _load_purchases(filename):\n",
    "    purchases = []\n",
    "    with open(filename) as f:\n",
    "        for line in f:\n",
    "            *_, price_raw = line.partition(\",\")\n",
    "            purchases.append(float(price_raw))\n",
    "\n",
    "    return purchases\n",
    "\n",
    "# 이건 제너레이터를 사용해 메모리를 효율적으로 관리한다.\n",
    "def load_purchases(filename):\n",
    "    with open(filename) as f:\n",
    "        for line in f:\n",
    "            *_, price_raw = line.partition(\",\")\n",
    "            yield float(price_raw)\n",
    "\n",
    "\n",
    "def main():\n",
    "    create_purchases_file(PURCHASES_FILE)\n",
    "    purchases = load_purchases(PURCHASES_FILE)\n",
    "    stats = PurchasesStats(purchases).process()\n",
    "    logger.info(\"Results: %s\", stats)\n",
    "\n",
    "\n",
    "if __name__ == \"__main__\":\n",
    "    main()\n",
    "```\n",
    "- 모든 제너레이터 객체는 이터러블이다.\n",
    "- 이터러블은 for루프와 함께 사용 가능하다.\n",
    "\n",
    "### 제너레이터 표현식\n",
    "- 제너레이터로 메모리를 많이 절약할 수 있다.\n",
    "- 제너레이터는 이터레이터이므로, 리스트, 튜플, 처럼 메모리 많이 쓰는 이터러블, 컨테이너의 대안이 될 수 있다.\n",
    "- comprehension 으로 generator comprehension을 쓸수 있다.\n",
    "- 방법은 [] 대신 ()를 쓰면 된다."
   ]
  },
  {
   "cell_type": "code",
   "execution_count": 2,
   "outputs": [
    {
     "name": "stdout",
     "output_type": "stream",
     "text": [
      "[0, 1, 4, 9, 16, 25, 36, 49, 64, 81]\n",
      "<generator object <genexpr> at 0x1054e4e40>\n",
      "285\n"
     ]
    }
   ],
   "source": [
    "res = [x ** 2 for x in range(10)]\n",
    "print(res)\n",
    "\n",
    "res = (x ** 2 for x in range(10))\n",
    "print(res)\n",
    "\n",
    "res = sum(x ** 2 for x in range(10))\n",
    "print(res)"
   ],
   "metadata": {
    "collapsed": false,
    "pycharm": {
     "name": "#%%\n"
    }
   }
  },
  {
   "cell_type": "markdown",
   "source": [
    "> 항상 list comprehension대신 generator expression을 사용해서 min, max, sum같은 함수에 전달한다.\n",
    "이게 더 효율적이고 파이썬스러운 방법이다.\n",
    "\n",
    "\n",
    "## 이상적인 반복\n",
    "### 관용적인 반복 코드\n",
    "### 파이썬의 이터레이터 패턴\n",
    "## 코루틴\n",
    "### 제너레이터 인터페이스의 메서드\n",
    "### 코루틴 고급 주제\n",
    "### 작은 코루틴에 위임하기 - yield from 구문\n",
    "## 비동기 프로그래밍\n",
    "## 요약"
   ],
   "metadata": {
    "collapsed": false,
    "pycharm": {
     "name": "#%% md\n"
    }
   }
  },
  {
   "cell_type": "code",
   "execution_count": null,
   "outputs": [],
   "source": [],
   "metadata": {
    "collapsed": false,
    "pycharm": {
     "name": "#%%\n"
    }
   }
  }
 ],
 "metadata": {
  "kernelspec": {
   "display_name": "Python 3",
   "language": "python",
   "name": "python3"
  },
  "language_info": {
   "codemirror_mode": {
    "name": "ipython",
    "version": 2
   },
   "file_extension": ".py",
   "mimetype": "text/x-python",
   "name": "python",
   "nbconvert_exporter": "python",
   "pygments_lexer": "ipython2",
   "version": "2.7.6"
  }
 },
 "nbformat": 4,
 "nbformat_minor": 0
}