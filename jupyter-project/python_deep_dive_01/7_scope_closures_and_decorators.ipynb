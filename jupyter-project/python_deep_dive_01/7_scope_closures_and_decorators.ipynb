{
 "cells": [
  {
   "cell_type": "markdown",
   "metadata": {
    "collapsed": true,
    "pycharm": {
     "name": "#%% md\n"
    }
   },
   "source": [
    "## Global and Local Scopes\n",
    "Scopes and Namespace\n",
    "\n",
    "### Global scope\n",
    "- The global scope is essntially the module sccope\n",
    "- There is no concept of a truly global scope in Python\n",
    "- the only exception to ths are some of the built-in globally available objects, such as\n",
    "  - True, False, None, dict, print\n",
    "    <img alt=\"스크린샷 2022-02-27 오후 2 35 12\" height=\"500\" src=\"https://user-images.githubusercontent.com/60768642/155869652-cd86498d-1d04-46c7-ba4b-557cf8347d95.png\" width=\"500\"/>\n",
    "\n",
    "#### example\n",
    "<img width=\"500\" alt=\"스크린샷 2022-02-27 오후 2 39 12\" src=\"https://user-images.githubusercontent.com/60768642/155869737-69cab801-400a-42a6-b428-6e77233b3e3b.png\" height=\"500\">\n",
    "\n",
    "\n",
    "### Local Scope\n",
    "- Vairables defined inside a function are not created unitl the function is called\n",
    "- Every time the function is called, a new scoep is created\n",
    "  - variables defined inside the function are assigned to that scope\n",
    "- The actual object the variable reference could be different each time the function is called\n",
    "- this is why recursion works\n",
    "\n",
    "#### example\n",
    "- compile time에는 a,b,c가 my_func의 local variable이 될 것을 안다. 실제 scope이 생긴건 아니다.\n",
    "- runtime(함수가 실행될 때)에 실제 scope이 생긴다. 함수 실행이 끝나면 scope은 사라진다.\n",
    "- 새로운 함수가 실행되면 새로운 scope이 생긴다.\n",
    "  <img alt=\"스크린샷 2022-02-27 오후 2 44 47\" height=\"500\" src=\"https://user-images.githubusercontent.com/60768642/155869883-d7cea75b-7f82-4a78-bbdb-e1bfdc961401.png\" width=\"500\"/>\n",
    "\n",
    "### Nested Scopes\n",
    "- local -> module -> built-in scope 순서로 찾아간다.\n",
    "  <img alt=\"스크린샷 2022-02-27 오후 2 47 38\" height=\"500\" src=\"https://user-images.githubusercontent.com/60768642/155869953-4e4f2a74-2e65-4653-99b3-3610a0c1bee4.png\" width=\"500\"/>\n",
    "\n",
    "#### example\n",
    "<img width=\"500\" alt=\"스크린샷 2022-02-27 오후 2 50 45\" src=\"https://user-images.githubusercontent.com/60768642/155870035-9fb711c9-c9d2-4935-80d4-0fd81236a197.png\" height=\"500\">\n",
    "\n",
    "### Accessing the global scope from a local scope\n",
    "global keyword를 사용해서 local scope에서 global scope 변수에 접근할 수 있다.\n",
    "```python\n",
    "a = 0\n",
    "\n",
    "def my_func():\n",
    "    a = 100\n",
    "    print(a)\n",
    "\n",
    "my_func()\n",
    "\n",
    "print(a)\n",
    "\n",
    "\n",
    "100\n",
    "0\n",
    "```\n",
    "\n",
    "```python\n",
    "a = 0\n",
    "\n",
    "def my_func():\n",
    "    global a\n",
    "    a = 100\n",
    "    print(a)\n",
    "\n",
    "my_func()\n",
    "\n",
    "print(a)\n",
    "\n",
    "100\n",
    "100\n",
    "```\n",
    "\n",
    "### global and Local scoping\n",
    "<img width=\"500\" alt=\"스크린샷 2022-02-27 오후 3 00 55\" src=\"https://user-images.githubusercontent.com/60768642/155870319-2d77928a-95df-4660-9f8b-6a3e949180fc.png\" height=\"500\">\n",
    "\n",
    "- 아래 코드는 run-time error 가 난다.\n",
    "```\n",
    "a = 0\n",
    "\n",
    "def my_func():\n",
    "    print(a)\n",
    "    a = 100\n",
    "\n",
    "my_func()\n",
    "\n",
    "\n",
    "UnboundLocalError: local variable 'a' referenced before assignment\n",
    "```\n",
    "\n",
    "## Nonlocal Scopes\n",
    "### Inner functions\n",
    "<img width=\"500\" alt=\"스크린샷 2022-02-27 오후 3 06 25\" src=\"https://user-images.githubusercontent.com/60768642/155870480-6bf29df8-5579-430f-863f-d2ec6e1e96ee.png\" height=\"500\">\n",
    "\n",
    "### Referencing variables from the enclosing scope\n",
    "<img width=\"1504\" alt=\"스크린샷 2022-02-27 오후 3 08 21\" src=\"https://user-images.githubusercontent.com/60768642/155870543-6f538db6-ece0-4044-b277-d36a457fa47c.png\">\n",
    "<img width=\"500\" alt=\"스크린샷 2022-02-27 오후 3 09 04\" src=\"https://user-images.githubusercontent.com/60768642/155870560-5ee7228a-0492-4224-8380-0e9a1c664111.png\" height=\"500\">\n",
    "\n",
    "### modifying global variables\n",
    "<img width=\"500\" alt=\"스크린샷 2022-02-27 오후 3 10 31\" src=\"https://user-images.githubusercontent.com/60768642/155870597-79ba7c68-0c72-4234-ab2a-af2456b2e9cb.png\" height=\"500\">\n",
    "\n",
    "### modifying nonlocal variables\n",
    "- 아래 코드를 보자\n",
    "- inner 에서 변경시킨 x는 inner의 local이기 때문에, outer 변수에 영향을 안준다.\n",
    "```python\n",
    "def outer_func():\n",
    "    x = \"hello\"\n",
    "    def inner_func():\n",
    "        x = \"world\"\n",
    "    inner_func()\n",
    "    print(x)\n",
    "\n",
    "\n",
    "outer_func()\n",
    "\n",
    "hello\n",
    "```\n",
    "\n",
    "- outer 변수(nonlocal)을 inner에서 바꾸려면 아래처럼 nonlocal을 선언하면 된다\n",
    "```python\n",
    "\n",
    "def outer_func():\n",
    "    x = \"hello\"\n",
    "\n",
    "    def inner_func():\n",
    "        nonlocal x\n",
    "        x = \"world\"\n",
    "    inner_func()\n",
    "    print(x)\n",
    "\n",
    "\n",
    "outer_func()\n",
    "\n",
    "world\n",
    "\n",
    "```\n",
    "<img width=\"600\" alt=\"스크린샷 2022-02-27 오후 3 37 47\" src=\"https://user-images.githubusercontent.com/60768642/155871338-f9b37451-29e7-48cf-becc-3cfa765742db.png\" height=\"500\">\n",
    "\n",
    "\n",
    "\n",
    "<img width=\"600\" alt=\"스크린샷 2022-02-27 오후 3 38 06\" src=\"https://user-images.githubusercontent.com/60768642/155871350-c0e205e9-731d-47c8-8f6c-36feef01323b.png\" height=\"500\">\n",
    "\n",
    "\n",
    "## Closures\n",
    "<img width=\"1655\" alt=\"asdf\" src=\"https://user-images.githubusercontent.com/60768642/156152511-ac818eb8-484f-43bd-bd9c-8ee34e880e42.png\">\n",
    "\n",
    "> inner encloses its free variable\n",
    "\n",
    "<img width=\"1543\" alt=\"스크린샷 2022-03-01 오후 7 34 04\" src=\"https://user-images.githubusercontent.com/60768642/156153280-5746e411-d407-435b-9de1-10ea0613c824.png\">\n",
    "\n",
    "<img width=\"1221\" alt=\"스크린샷 2022-03-01 오후 7 37 56\" src=\"https://user-images.githubusercontent.com/60768642/156153956-e3673cbf-6a0c-4976-832c-7f3c09eac665.png\">\n",
    "\n",
    "<img width=\"1219\" alt=\"스크린샷 2022-03-01 오후 7 40 32\" src=\"https://user-images.githubusercontent.com/60768642/156154336-d27ca427-b840-44ab-8045-f73f97bae587.png\">\n",
    "\n",
    "<img width=\"1197\" alt=\"스크린샷 2022-03-01 오후 7 50 10\" src=\"https://user-images.githubusercontent.com/60768642/156155753-5997e10b-bae6-4eda-a5a0-d4d5d180b009.png\">\n",
    "\n",
    "<img width=\"1085\" alt=\"스크린샷 2022-03-01 오후 7 55 47\" src=\"https://user-images.githubusercontent.com/60768642/156156582-44ba65aa-ffa2-4821-a1e5-0f33a0bca6dc.png\">\n",
    "\n",
    "<img width=\"1167\" alt=\"스크린샷 2022-03-01 오후 7 55 56\" src=\"https://user-images.githubusercontent.com/60768642/156156604-9a42a743-a37c-4b5b-b076-7866ca1a1977.png\">\n",
    "\n",
    "<img width=\"1144\" alt=\"스크린샷 2022-03-01 오후 7 56 07\" src=\"https://user-images.githubusercontent.com/60768642/156156634-2a96c120-4dfb-48f1-abbc-d3b40974ca9a.png\">\n",
    "\n",
    "<img width=\"937\" alt=\"스크린샷 2022-03-01 오후 8 04 10\" src=\"https://user-images.githubusercontent.com/60768642/156157890-fa70588f-5e9f-4860-a337-b8d8c89cdd25.png\">\n",
    "\n",
    "<img width=\"1183\" alt=\"스크린샷 2022-03-01 오후 8 04 18\" src=\"https://user-images.githubusercontent.com/60768642/156157911-060b1226-6f7d-43c1-baca-d35e931d8088.png\">\n",
    "\n",
    "<img width=\"1027\" alt=\"스크린샷 2022-03-01 오후 8 04 25\" src=\"https://user-images.githubusercontent.com/60768642/156157924-59bbd11c-2609-41c5-9b49-62a3c04ac72f.png\">\n",
    "\n",
    "\n",
    "## Closure Applications 1"
   ]
  },
  {
   "cell_type": "code",
   "execution_count": null,
   "outputs": [],
   "source": [
    "class Averager:\n",
    "    def __init__(self):\n",
    "        self.numbers = []\n",
    "\n",
    "    def add(self, number):\n",
    "        self.numbers.append(number)\n",
    "        total = sum(self.numbers)\n",
    "        count = len(self.numbers)\n",
    "        return total / count"
   ],
   "metadata": {
    "collapsed": false,
    "pycharm": {
     "name": "#%%\n"
    }
   }
  },
  {
   "cell_type": "markdown",
   "source": [
    "위 코드를 closure로 구현해보자."
   ],
   "metadata": {
    "collapsed": false,
    "pycharm": {
     "name": "#%% md\n"
    }
   }
  },
  {
   "cell_type": "code",
   "execution_count": 13,
   "outputs": [
    {
     "name": "stdout",
     "output_type": "stream",
     "text": [
      "20.0\n",
      "20.0\n",
      "(<cell at 0x1122d1370: list object at 0x112aae540>,)\n",
      "(<cell at 0x1122d1190: list object at 0x112aacc00>,)\n"
     ]
    }
   ],
   "source": [
    "def averager():\n",
    "    numbers = []\n",
    "    def add(number):\n",
    "        numbers.append(number)\n",
    "        total = sum(numbers)\n",
    "        count = len(numbers)\n",
    "        return total / count\n",
    "    return add\n",
    "\n",
    "a = averager()\n",
    "a(10)\n",
    "a(20)\n",
    "print(a(30))\n",
    "b = averager()\n",
    "b(10)\n",
    "b(20)\n",
    "print(b(30))\n",
    "print(a.__closure__)\n",
    "print(b.__closure__)"
   ],
   "metadata": {
    "collapsed": false,
    "pycharm": {
     "name": "#%%\n"
    }
   }
  },
  {
   "cell_type": "markdown",
   "source": [
    "위 코드를 아래처럼 개선해보자."
   ],
   "metadata": {
    "collapsed": false,
    "pycharm": {
     "name": "#%% md\n"
    }
   }
  },
  {
   "cell_type": "code",
   "execution_count": 16,
   "outputs": [
    {
     "name": "stdout",
     "output_type": "stream",
     "text": [
      "20.0\n",
      "(<cell at 0x1122150a0: int object at 0x1046f6970>, <cell at 0x1122157c0: int object at 0x1047250d0>)\n",
      "('count', 'total')\n"
     ]
    }
   ],
   "source": [
    "def averager():\n",
    "    total = 0\n",
    "    count = 0\n",
    "    def add(number):\n",
    "        nonlocal total\n",
    "        nonlocal count\n",
    "        total = total + number\n",
    "        count = count + 1\n",
    "        return total / count\n",
    "    return add\n",
    "\n",
    "a = averager()\n",
    "a(10)\n",
    "a(20)\n",
    "print(a(30))\n",
    "print(a.__closure__)\n",
    "print(a.__code__.co_freevars)"
   ],
   "metadata": {
    "collapsed": false,
    "pycharm": {
     "name": "#%%\n"
    }
   }
  },
  {
   "cell_type": "code",
   "execution_count": 19,
   "outputs": [
    {
     "name": "stdout",
     "output_type": "stream",
     "text": [
      "1.2999999967178155e-05\n",
      "4.93750000032378e-05\n"
     ]
    }
   ],
   "source": [
    "from time import perf_counter\n",
    "class Timer:\n",
    "    def __init__(self):\n",
    "        self.start = perf_counter()\n",
    "\n",
    "    def __call__(self, *args, **kwargs):\n",
    "        return perf_counter() - self.start\n",
    "\n",
    "t1 = Timer()\n",
    "print(t1())\n",
    "print(t1())"
   ],
   "metadata": {
    "collapsed": false,
    "pycharm": {
     "name": "#%%\n"
    }
   }
  },
  {
   "cell_type": "code",
   "execution_count": 22,
   "outputs": [
    {
     "name": "stdout",
     "output_type": "stream",
     "text": [
      "1.9584000028771698e-05\n",
      "0.00029316699999526463\n"
     ]
    }
   ],
   "source": [
    "# 위 코드를 clousre로 만들어보자.\n",
    "\n",
    "from time import perf_counter\n",
    "def timer():\n",
    "    start = perf_counter()\n",
    "    def poll():\n",
    "        return perf_counter() - start\n",
    "    return poll\n",
    "\n",
    "t2 = timer()\n",
    "print(t2())\n",
    "print(t2())"
   ],
   "metadata": {
    "collapsed": false,
    "pycharm": {
     "name": "#%%\n"
    }
   }
  },
  {
   "cell_type": "markdown",
   "source": [
    "## Closure Applications 2\n",
    "\n",
    "\n",
    "## Decorators\n",
    "\n",
    "<img width=\"1584\" alt=\"스크린샷 2022-03-06 오후 5 34 51\" src=\"https://user-images.githubusercontent.com/60768642/156915485-aa94193d-67d6-4d9a-8bf8-7a1723a13974.png\">\n",
    "\n",
    "#### 데코레이터는?\n",
    "- 함수를 인자로 받는다.\n",
    "- closure를 리턴한다.\n",
    "- 리턴된 closure는 대개 `*args`,  `**kwargs`와 같은 파람을 받는다.\n",
    "- inner function에서 뭔가를 실행한다.\n",
    "- inner function의 파람을 활용해 인자로 받은 함수를 실행한다.\n",
    "- 인자로 받은 함수가 리턴하는 값을 리턴한다.\n",
    "\n",
    "<img alt=\"스크린샷 2022-03-06 오후 5 34 33\" src=\"https://user-images.githubusercontent.com/60768642/156915475-613bc543-8ba2-479e-8030-d6fa36729e05.png\" width=\"1025\"/>\n",
    "\n",
    "#### `@` symbol\n",
    "- `@`은 syntatic sugar일 뿐이다.\n",
    "- 아래 두 코드는 같다."
   ],
   "metadata": {
    "collapsed": false,
    "pycharm": {
     "name": "#%% md\n"
    }
   }
  },
  {
   "cell_type": "code",
   "execution_count": null,
   "outputs": [],
   "source": [
    "# 1번 경우\n",
    "def counter(fn):\n",
    "    count = 0\n",
    "    def inner(*args, **kwargs):\n",
    "        nonlocal count\n",
    "        count += 1\n",
    "        print('{0} was called {1} times'.format(fn.__name__, count))\n",
    "        return fn(*args, **kwargs)\n",
    "    return inner\n",
    "\n",
    "def add(a, b):\n",
    "    return a + b\n",
    "\n",
    "add = counter(add)"
   ],
   "metadata": {
    "collapsed": false,
    "pycharm": {
     "name": "#%%\n"
    }
   }
  },
  {
   "cell_type": "code",
   "source": [
    " # 2번 경우\n",
    "def counter(fn):\n",
    "    count = 0\n",
    "    def inner(*args, **kwargs):\n",
    "        nonlocal count\n",
    "        count += 1\n",
    "        return fn(*args, **kwargs)\n",
    "    return inner\n",
    "\n",
    "@counter\n",
    "def add(a, b):\n",
    "    return a + b\n",
    "\n"
   ],
   "metadata": {
    "collapsed": false,
    "pycharm": {
     "name": "#%%\n"
    }
   },
   "execution_count": null,
   "outputs": []
  },
  {
   "cell_type": "markdown",
   "source": [
    "#### Introspecting Decorated Functions\n",
    "- decorated된 함수는 더이상 그 함수 자체가 아니다.\n",
    "- decorated된 함수는 결국 inner func다.\n",
    "- 즉 원래 함수의 metadata가 전부 사라진다.\n",
    "- 아래 코드를 보면 add함수에 help를 쳤을 때 inner의 docstring이 나오는 것을 볼 수 있다. signature도 전부 바뀐다."
   ],
   "metadata": {
    "collapsed": false,
    "pycharm": {
     "name": "#%% md\n"
    }
   }
  },
  {
   "cell_type": "code",
   "execution_count": 23,
   "outputs": [
    {
     "name": "stdout",
     "output_type": "stream",
     "text": [
      "Help on function inner in module __main__:\n",
      "\n",
      "inner(*args, **kwargs)\n",
      "    this if inner's docstring\n",
      "\n",
      "None\n"
     ]
    }
   ],
   "source": [
    "def counter(fn):\n",
    "    count = 0\n",
    "    def inner(*args, **kwargs):\n",
    "        \"\"\"this if inner's docstring\"\"\"\n",
    "        nonlocal count\n",
    "        count += 1\n",
    "        return fn(*args, **kwargs)\n",
    "    return inner\n",
    "\n",
    "@counter\n",
    "def add(a, b):\n",
    "    \"\"\" this is add's docstring\"\"\"\n",
    "    return a + b\n",
    "\n",
    "print(help(add))"
   ],
   "metadata": {
    "collapsed": false,
    "pycharm": {
     "name": "#%%\n"
    }
   }
  },
  {
   "cell_type": "markdown",
   "source": [
    "#### 야매 해결법\n",
    "- 위 문제를 고치기 위해 아래처럼 할 수 있다.\n",
    "- 하지만 아래코드는 함수 이름과 주석만 다룰 뿐, 함수의 signature가 바뀌는 문제를 해결하지 못한다.\n",
    "- 귀찮은 방법이기도 하다."
   ],
   "metadata": {
    "collapsed": false,
    "pycharm": {
     "name": "#%% md\n"
    }
   }
  },
  {
   "cell_type": "code",
   "execution_count": null,
   "outputs": [],
   "source": [
    "def counter(fn):\n",
    "    count = 0\n",
    "    def inner(*args, **kwargs):\n",
    "        \"\"\"this if inner's docstring\"\"\"\n",
    "        nonlocal count\n",
    "        count += 1\n",
    "        return fn(*args, **kwargs)\n",
    "    inner.__name__ = fn.__name__\n",
    "    inner.__doc__ = fn.__doc__\n",
    "    return inner"
   ],
   "metadata": {
    "collapsed": false,
    "pycharm": {
     "name": "#%%\n"
    }
   }
  },
  {
   "cell_type": "markdown",
   "source": [
    "#### 제대로된 해결법. functools.wraps\n",
    "- 항상 wraps를 써야하는 것은 아니지만, 디버깅에 유용하니 웬만하면 달아주는게 좋다.\n",
    "<img width=\"1331\" alt=\"스크린샷 2022-03-06 오후 5 48 47\" src=\"https://user-images.githubusercontent.com/60768642/156915858-ea5b1b7f-2ee9-4953-aaf1-b09cd52d034a.png\">\n",
    "\n"
   ],
   "metadata": {
    "collapsed": false,
    "pycharm": {
     "name": "#%% md\n"
    }
   }
  },
  {
   "cell_type": "markdown",
   "source": [
    "## Decorator Application\n",
    "## Decorators(Part 2)\n",
    "## Decorator Application(Decorator class)\n",
    "## Decorator Application(decorating class)\n",
    "## Decorator Application(Dispatching)"
   ],
   "metadata": {
    "collapsed": false
   }
  },
  {
   "cell_type": "markdown",
   "source": [],
   "metadata": {
    "collapsed": false,
    "pycharm": {
     "name": "#%% md\n"
    }
   }
  }
 ],
 "metadata": {
  "kernelspec": {
   "display_name": "Python 3",
   "language": "python",
   "name": "python3"
  },
  "language_info": {
   "codemirror_mode": {
    "name": "ipython",
    "version": 2
   },
   "file_extension": ".py",
   "mimetype": "text/x-python",
   "name": "python",
   "nbconvert_exporter": "python",
   "pygments_lexer": "ipython2",
   "version": "2.7.6"
  }
 },
 "nbformat": 4,
 "nbformat_minor": 0
}