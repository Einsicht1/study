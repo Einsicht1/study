{
 "cells": [
  {
   "cell_type": "markdown",
   "metadata": {
    "collapsed": true,
    "pycharm": {
     "name": "#%% md\n"
    }
   },
   "source": [
    "## Argument vs Parameter\n",
    "\n",
    "### Semantics\n",
    "#### parameter\n",
    "```\n",
    "함수 정의 시 parameter라고 부름\n",
    "def my_func(a, b):\n",
    "    pass\n",
    "```\n",
    "#### arguments\n",
    "- 함수 호출 시 arguments라고 부름\n",
    "```\n",
    "x = 1\n",
    "y = \"a\"\n",
    "my_func(x, y)\n",
    "```\n",
    "- 이때 x, y는 refernce 함수에 reference(주소값)을 넘긴다.\n"
   ]
  },
  {
   "cell_type": "markdown",
   "source": [
    "## Positional and Keyword Arguments\n",
    "- 함수 정의 혹은 호출 시 kwargs가 오면, 그 뒤는 무조건 kwargs여야한다.\n",
    "  - def my_func(a=1, b, c) 불가능!\n",
    "  - my_func(a=1, 2,3) 불가능!"
   ],
   "metadata": {
    "collapsed": false
   }
  },
  {
   "cell_type": "markdown",
   "source": [
    "## Unpacking Iterables\n",
    "#### 튜플 정의 방법\n",
    "- 괄호 ()를 사용해도 튜플이지만, 아래처럼 해도 튜플이다."
   ],
   "metadata": {
    "collapsed": false
   }
  },
  {
   "cell_type": "code",
   "execution_count": 6,
   "outputs": [
    {
     "name": "stdout",
     "output_type": "stream",
     "text": [
      "(1, 2, 3)\n",
      "<class 'tuple'>\n"
     ]
    }
   ],
   "source": [
    "a = 1,2,3\n",
    "print(a)\n",
    "print(type(a))"
   ],
   "metadata": {
    "collapsed": false,
    "pycharm": {
     "name": "#%%\n"
    }
   }
  },
  {
   "cell_type": "markdown",
   "source": [
    "#### Packed Values\n",
    "- bundled되있는 values를 일컫는다.\n",
    "- list, tuple, str, set, dict 모두 packed values다.\n",
    "- in fact, any iterable can be considered a packed value\n",
    "\n",
    "#### Unpacking Packed Values"
   ],
   "metadata": {
    "collapsed": false
   }
  },
  {
   "cell_type": "code",
   "execution_count": 7,
   "outputs": [
    {
     "name": "stdout",
     "output_type": "stream",
     "text": [
      "1 2 3\n",
      "10 20 hello\n",
      "X Y Z\n"
     ]
    }
   ],
   "source": [
    "a,b,c = [1,2,3]\n",
    "print(a,b,c)\n",
    "a,b,c = 10, 20, \"hello\"\n",
    "print(a,b,c)\n",
    "a,b,c = \"XYZ\"\n",
    "print(a,b,c)\n"
   ],
   "metadata": {
    "collapsed": false,
    "pycharm": {
     "name": "#%%\n"
    }
   }
  },
  {
   "cell_type": "markdown",
   "source": [
    "## Extended Unpacking\n",
    "#### The use case for *\n",
    "- 아래 3가지 경우는 모두 a에 1을, b에 나머지를 할당한다.\n",
    "```\n",
    "l = [1,2,3,4,5,6]\n",
    "1)\n",
    "  a = l[0]\n",
    "  b = [1:]\n",
    "2)\n",
    "  a, b = l[0], l[1:]\n",
    "3)\n",
    "  a, *b = l\n",
    "```\n",
    "\n",
    "- 3)처럼 *을 사용하면, l이 list가 아니어도 b의 타입은 무조건 list가 된다.\n",
    "- 아래 같은 것도 가능하다."
   ],
   "metadata": {
    "collapsed": false
   }
  },
  {
   "cell_type": "code",
   "execution_count": 8,
   "outputs": [
    {
     "name": "stdout",
     "output_type": "stream",
     "text": [
      "1 [2, 3, 4] 5\n",
      "[1, 2, 3, 4, 5, 6]\n",
      "{'p': 1, 'y': 2, 'z': 50, 't': 3, 'h': 4}\n",
      "{'a': 1, 'b': 2}\n",
      "1 [2, 3] p ['y', 't', 'h', 'o', 'n']\n"
     ]
    }
   ],
   "source": [
    "a, *b, c = [1,2,3,4,5]\n",
    "print(a,b,c)\n",
    "\n",
    "a = [1,2,3]\n",
    "b = [4,5,6]\n",
    "c = [*a, *b]\n",
    "print(c)\n",
    "\n",
    "a = {\"p\": 1, \"y\": 2, \"z\": 10}\n",
    "b = {\"t\": 3, \"h\": 4, \"z\": 50}\n",
    "c = {**a, **b}\n",
    "print(c) # b의 z가 a의 z를 overwrote함을 주의하라.\n",
    "\n",
    "d1 = {\"a\": 1, \"b\": 2}\n",
    "print({\"a\": 10, **d1})\n",
    "\n",
    "a, *b, (c, *d) = [1,2,3, \"python\"]\n",
    "print(a,b,c,d)"
   ],
   "metadata": {
    "collapsed": false,
    "pycharm": {
     "name": "#%%\n"
    }
   }
  },
  {
   "cell_type": "markdown",
   "source": [
    "#### *는 좌변에 딱 한번만 사용 가능하다!\n",
    "a, *b, *c = [1,2,3,4,5] 는 에러!\n",
    "#### **는 좌변에 사용 불가하다."
   ],
   "metadata": {
    "collapsed": false
   }
  },
  {
   "cell_type": "markdown",
   "source": [
    "## *args\n",
    "- *args와 *는 다르다.\n",
    "- *는 positional args를 개수 상관없이 받겠다는 것이고,\n",
    "- **`*` indicates the \"end\" of positional arguments**\n",
    "- 아래처럼 정의하면 positional을 전혀 받지 않겠다는 뜻이 된다. b는 kwargs가 된다.\n",
    "```\n",
    "def my_func(*, b):\n",
    "    pass\n",
    "```"
   ],
   "metadata": {
    "collapsed": false
   }
  },
  {
   "cell_type": "markdown",
   "source": [
    "## Parameter defaults: Beware\n",
    "- 함수 param에 default로 준 값은 runtime에 생성된다.\n",
    "- 이는 매우 중요한 사실이다. 아래 예시를 보자.\n",
    "- runtime에 datetime.now()가 생성됐기 때문에 3초 sleep이후에도 여전히 같은 값이다."
   ],
   "metadata": {
    "collapsed": false
   }
  },
  {
   "cell_type": "code",
   "execution_count": 9,
   "outputs": [
    {
     "name": "stdout",
     "output_type": "stream",
     "text": [
      "2022-03-01 19:09:52.700039\n",
      "2022-03-01 19:09:52.700039\n"
     ]
    }
   ],
   "source": [
    "from datetime import datetime\n",
    "from time import sleep\n",
    "def main(t=datetime.now()):\n",
    "    print(t)\n",
    "\n",
    "main()\n",
    "sleep(3)\n",
    "main()\n"
   ],
   "metadata": {
    "collapsed": false,
    "pycharm": {
     "name": "#%%\n"
    }
   }
  },
  {
   "cell_type": "markdown",
   "source": [
    "- 위 문제를 해결하려면 항상 함수 호출 시 값을 넘겨주거나, 아래 예시처럼 함수 안에서 값을 정의해야한다.\n",
    "- 보통은 default value를 None으로 정의하는게 국룰이다."
   ],
   "metadata": {
    "collapsed": false
   }
  },
  {
   "cell_type": "code",
   "execution_count": 10,
   "outputs": [
    {
     "name": "stdout",
     "output_type": "stream",
     "text": [
      "2022-03-01 19:09:55.705204\n",
      "2022-03-01 19:09:58.711733\n"
     ]
    }
   ],
   "source": [
    "from datetime import datetime\n",
    "from time import sleep\n",
    "def main(t=None):\n",
    "    t = t or datetime.now()\n",
    "    print(t)\n",
    "\n",
    "main()\n",
    "sleep(3)\n",
    "main()"
   ],
   "metadata": {
    "collapsed": false,
    "pycharm": {
     "name": "#%%\n"
    }
   }
  },
  {
   "cell_type": "markdown",
   "source": [
    "### default value: mutable object\n",
    "- defalut value에 list와 같은 mutable을 쓸땐 정말 조심하자.\n",
    "- 아래처럼 원치 않는 결과가 나올 수도 있다.\n",
    "- runtime시 li=[]가 생성되고, 이후 계속 li는 (args로 주어지지 않는이상) 계속 같은 메모리를 참조한다."
   ],
   "metadata": {
    "collapsed": false,
    "pycharm": {
     "name": "#%% md\n"
    }
   }
  },
  {
   "cell_type": "code",
   "execution_count": 11,
   "outputs": [
    {
     "name": "stdout",
     "output_type": "stream",
     "text": [
      "[1]\n",
      "[1, 3]\n",
      "[1, 3]\n",
      "True\n"
     ]
    }
   ],
   "source": [
    "def main(a, li=[]):\n",
    "    li.append(a)\n",
    "    return li\n",
    "\n",
    "res1 = main(1)\n",
    "print(res1)\n",
    "res2 = main(3)\n",
    "print(res2)\n",
    "print(res1)\n",
    "print(res1 is res2)\n"
   ],
   "metadata": {
    "collapsed": false,
    "pycharm": {
     "name": "#%%\n"
    }
   }
  },
  {
   "cell_type": "code",
   "execution_count": 12,
   "outputs": [],
   "source": [
    "# 해결책\n",
    "def main(a, li=None):\n",
    "    li = li or []\n",
    "    li.append(a)\n",
    "    return li\n"
   ],
   "metadata": {
    "collapsed": false,
    "pycharm": {
     "name": "#%%\n"
    }
   }
  },
  {
   "cell_type": "code",
   "source": [
    "# 의도적으로 함수 param에 mutable을 줄 때도 있다.\n",
    "# cache를 반복적으로 쓰려면 아래처럼 해야함.\n",
    "def factorial(n, cache={}):\n",
    "    if n < 1:\n",
    "        return 1\n",
    "    elif n in cache:\n",
    "        return cache[n]\n",
    "    else:\n",
    "        print(\"calculate\")\n",
    "        res = n * factorial(n-1)\n",
    "        cache[n] = res\n",
    "        return res\n",
    "\n",
    "res = factorial(3)\n",
    "print(res)\n",
    "res = factorial(3)\n",
    "print(res)"
   ],
   "metadata": {
    "collapsed": false,
    "pycharm": {
     "name": "#%%\n"
    }
   },
   "execution_count": 13,
   "outputs": [
    {
     "name": "stdout",
     "output_type": "stream",
     "text": [
      "calculate\n",
      "calculate\n",
      "calculate\n",
      "6\n",
      "6\n"
     ]
    }
   ]
  }
 ],
 "metadata": {
  "kernelspec": {
   "display_name": "Python 3",
   "language": "python",
   "name": "python3"
  },
  "language_info": {
   "codemirror_mode": {
    "name": "ipython",
    "version": 2
   },
   "file_extension": ".py",
   "mimetype": "text/x-python",
   "name": "python",
   "nbconvert_exporter": "python",
   "pygments_lexer": "ipython2",
   "version": "2.7.6"
  }
 },
 "nbformat": 4,
 "nbformat_minor": 0
}