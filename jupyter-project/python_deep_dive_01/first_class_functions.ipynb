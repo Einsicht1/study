{
 "cells": [
  {
   "cell_type": "markdown",
   "source": [
    "# First Class Functions\n",
    "## Docstrings and Annotations\n",
    "- docstring은 help()실행시 프린트된다.\n",
    "- docstring은 `__doc__` 호출시 프린트된다.\n",
    "- 별거 아니지만 소소한 지식: annotation string 형태를 줘도 작동한다.\n",
    "- 참고로 annotation과 type hint는 완전히 같은 뜻은 아니다."
   ],
   "metadata": {
    "collapsed": false,
    "pycharm": {
     "name": "#%% md\n"
    }
   }
  },
  {
   "cell_type": "code",
   "execution_count": 4,
   "outputs": [
    {
     "name": "stdout",
     "output_type": "stream",
     "text": [
      "Help on function my_func in module __main__:\n",
      "\n",
      "my_func(a: 'zzzzz')\n",
      "\n",
      "{'a': 'zzzzz'}\n"
     ]
    }
   ],
   "source": [
    "def my_func(a: \"zzzzz\"):\n",
    "    pass\n",
    "\n",
    "help(my_func)\n",
    "print(my_func.__annotations__)"
   ],
   "metadata": {
    "collapsed": false,
    "pycharm": {
     "name": "#%%\n"
    }
   }
  },
  {
   "cell_type": "markdown",
   "source": [
    "## Lambda Expressions\n",
    "- 람다는 anonymous functions 이다.\n",
    "- 람다 문법: `lambda [parameter list]: expression`\n",
    "- lambda는 closure가 아니다.\n",
    "\n",
    "<img width=\"800\" alt=\"스크린샷 2022-02-12 오후 4 24 41\" src=\"https://user-images.githubusercontent.com/60768642/153701622-2108c6c2-51d5-4bb8-a80e-ee568194cc80.png\">\n",
    "\n",
    "```\n",
    "lambda x: x ** 2\n",
    "lambda x, y: x + y\n",
    "lambda: \"hello\"\n",
    "lambda s: s[::-1].upper()\n",
    "print(type(lambda x: x ** 2))\n",
    "```\n",
    "\n",
    "- lambda 함수 예시."
   ],
   "metadata": {
    "collapsed": false,
    "pycharm": {
     "name": "#%% md\n"
    }
   }
  },
  {
   "cell_type": "code",
   "execution_count": 13,
   "outputs": [
    {
     "name": "stdout",
     "output_type": "stream",
     "text": [
      "4\n",
      "9\n"
     ]
    }
   ],
   "source": [
    "my_func = lambda x: x ** 2\n",
    "print(my_func(2))\n",
    "print(my_func(3))"
   ],
   "metadata": {
    "collapsed": false,
    "pycharm": {
     "name": "#%%\n"
    }
   }
  },
  {
   "cell_type": "markdown",
   "source": [
    "위 함수는 아래 함수와 같다.\n",
    "\n",
    "```\n",
    "def my_func(x):\n",
    "    return x ** 2\n",
    "```\n",
    "\n",
    "- 요런 것도 가능하다."
   ],
   "metadata": {
    "collapsed": false,
    "pycharm": {
     "name": "#%% md\n"
    }
   }
  },
  {
   "cell_type": "code",
   "execution_count": 14,
   "outputs": [
    {
     "name": "stdout",
     "output_type": "stream",
     "text": [
      "4\n"
     ]
    }
   ],
   "source": [
    "def apply_func(x, fn):\n",
    "    return fn(x)\n",
    "\n",
    "print(apply_func(2, lambda x: x + 2))"
   ],
   "metadata": {
    "collapsed": false,
    "pycharm": {
     "name": "#%%\n"
    }
   }
  },
  {
   "cell_type": "markdown",
   "source": [
    "### Lambda Limitations\n",
    "#### No assignments\n",
    "- `lambda x: x=5`는 불가능하다\n",
    "#### No annotations\n",
    "- 주석 불가능\n",
    "#### Single logical line of code\n",
    "- line break(\\\\사용)는 가능하지만 논리적으로 하나의 라인이어야 한다.\n",
    "\n",
    "## Lambda and Sorting\n",
    "- sorted함수에는 key에 함수를 넘겨 sort 알고리즘을 정할 수 있다."
   ],
   "metadata": {
    "collapsed": false
   }
  },
  {
   "cell_type": "code",
   "execution_count": 19,
   "outputs": [
    {
     "name": "stdout",
     "output_type": "stream",
     "text": [
      "Help on built-in function sorted in module builtins:\n",
      "\n",
      "sorted(iterable, /, *, key=None, reverse=False)\n",
      "    Return a new list containing all items from the iterable in ascending order.\n",
      "    \n",
      "    A custom key function can be supplied to customize the sort order, and the\n",
      "    reverse flag can be set to request the result in descending order.\n",
      "\n"
     ]
    }
   ],
   "source": [
    "help(sorted)"
   ],
   "metadata": {
    "collapsed": false,
    "pycharm": {
     "name": "#%%\n"
    }
   }
  },
  {
   "cell_type": "code",
   "execution_count": 21,
   "outputs": [
    {
     "data": {
      "text/plain": "['A', 'D', 'Z', 'a', 'c', 'z']"
     },
     "execution_count": 21,
     "metadata": {},
     "output_type": "execute_result"
    }
   ],
   "source": [
    "# default sort\n",
    "l = [\"c\", \"D\", \"Z\", \"z\", \"a\", \"A\"]\n",
    "sorted(l)"
   ],
   "metadata": {
    "collapsed": false,
    "pycharm": {
     "name": "#%%\n"
    }
   }
  },
  {
   "cell_type": "code",
   "execution_count": 22,
   "outputs": [
    {
     "data": {
      "text/plain": "['a', 'A', 'c', 'D', 'Z', 'z']"
     },
     "execution_count": 22,
     "metadata": {},
     "output_type": "execute_result"
    }
   ],
   "source": [
    "# case insensitive sorting\n",
    "l = [\"c\", \"D\", \"Z\", \"z\", \"a\", \"A\"]\n",
    "sorted(l, key=lambda x: x.upper())"
   ],
   "metadata": {
    "collapsed": false,
    "pycharm": {
     "name": "#%%\n"
    }
   }
  },
  {
   "cell_type": "code",
   "execution_count": 25,
   "outputs": [
    {
     "data": {
      "text/plain": "['apple', 'banana', 'pear']"
     },
     "execution_count": 25,
     "metadata": {},
     "output_type": "execute_result"
    }
   ],
   "source": [
    "# dict의 value기준 정렬\n",
    "my_dict = {\"banana\": 3, \"apple\": 5, \"pear\": 1}\n",
    "sorted(my_dict)"
   ],
   "metadata": {
    "collapsed": false,
    "pycharm": {
     "name": "#%%\n"
    }
   }
  },
  {
   "cell_type": "code",
   "execution_count": 26,
   "outputs": [
    {
     "data": {
      "text/plain": "['pear', 'banana', 'apple']"
     },
     "execution_count": 26,
     "metadata": {},
     "output_type": "execute_result"
    }
   ],
   "source": [
    "my_dict = {\"banana\": 3, \"apple\": 5, \"pear\": 1}\n",
    "sorted(my_dict, key=lambda v: my_dict[v])"
   ],
   "metadata": {
    "collapsed": false,
    "pycharm": {
     "name": "#%%\n"
    }
   }
  },
  {
   "cell_type": "code",
   "execution_count": 66,
   "outputs": [
    {
     "data": {
      "text/plain": "[2, 10, 1, 5, 8, 9, 3, 4, 6, 7]"
     },
     "execution_count": 66,
     "metadata": {},
     "output_type": "execute_result"
    }
   ],
   "source": [
    "import random\n",
    "\n",
    "l = [i for i in range(1, 11)]\n",
    "sorted(l, key=lambda x: random.random())"
   ],
   "metadata": {
    "collapsed": false,
    "pycharm": {
     "name": "#%%\n"
    }
   }
  },
  {
   "cell_type": "markdown",
   "source": [
    "## Function Introspection\n",
    "- `__doc__`, `__annotations__`\n",
    "- 파이썬에서 함수는 first-class object이기 때문에 아래 같은 것도 가능하다.(attribute 소유 가능)"
   ],
   "metadata": {
    "collapsed": false
   }
  },
  {
   "cell_type": "code",
   "execution_count": 13,
   "outputs": [
    {
     "name": "stdout",
     "output_type": "stream",
     "text": [
      "this is my func!\n",
      "15\n"
     ]
    },
    {
     "data": {
      "text/plain": "True"
     },
     "execution_count": 13,
     "metadata": {},
     "output_type": "execute_result"
    }
   ],
   "source": [
    "def my_func(a, b):\n",
    "    pass\n",
    "\n",
    "my_func.name = \"this is my func!\"\n",
    "my_func.age = 15\n",
    "\n",
    "print(my_func.name)\n",
    "print(my_func.age)\n",
    "\"name\" in dir(my_func) and \"age\" in dir(my_func)"
   ],
   "metadata": {
    "collapsed": false,
    "pycharm": {
     "name": "#%%\n"
    }
   }
  },
  {
   "cell_type": "markdown",
   "source": [
    "#### `__name__`, `__defaults__`, `kwdefaults__`\n",
    "- `__name__`: name of function\n",
    "- `__defaults__`: tuple containing positional parameter defaults\n",
    "- `kwdefaults__`: dictionary containing keyward-only parameter defaults"
   ],
   "metadata": {
    "collapsed": false
   }
  },
  {
   "cell_type": "code",
   "execution_count": 16,
   "outputs": [
    {
     "name": "stdout",
     "output_type": "stream",
     "text": [
      "my_func\n",
      "(2, 3)\n",
      "{'kw2': 10}\n"
     ]
    }
   ],
   "source": [
    "def my_func(a, b=2, c=3, *, kw1, kw2=10):\n",
    "    pass\n",
    "\n",
    "print(my_func.__name__)\n",
    "print(my_func.__defaults__)\n",
    "print(my_func.__kwdefaults__)"
   ],
   "metadata": {
    "collapsed": false,
    "pycharm": {
     "name": "#%%\n"
    }
   }
  },
  {
   "cell_type": "markdown",
   "source": [
    "#### `__code__`\n",
    "- `__code__` object itself has various properties, which include:\n",
    "    - co_varnames: param and local variables. (param first, local variable after)\n",
    "    - co_argcount: number of param. (doesn't count `*args`, `**kwargs`)"
   ],
   "metadata": {
    "collapsed": false,
    "pycharm": {
     "name": "#%% md\n"
    }
   }
  },
  {
   "cell_type": "code",
   "execution_count": 18,
   "outputs": [
    {
     "name": "stdout",
     "output_type": "stream",
     "text": [
      "('a', 'b', 'args', 'kwargs', 'i')\n",
      "2\n",
      "b'd\\x01}\\x04t\\x00|\\x04|\\x01\\x83\\x02}\\x01|\\x00|\\x01\\x14\\x00S\\x00'\n"
     ]
    }
   ],
   "source": [
    "def my_func(a, b=2, *args, **kwargs):\n",
    "    i = 111\n",
    "    b = min(i, b)\n",
    "    return a * b\n",
    "\n",
    "print(my_func.__code__.co_varnames)\n",
    "print(my_func.__code__.co_argcount)"
   ],
   "metadata": {
    "collapsed": false,
    "pycharm": {
     "name": "#%%\n"
    }
   }
  },
  {
   "cell_type": "markdown",
   "source": [
    "#### inspect module(import inspect)\n",
    "- ismethod(obj): 클래스에 종속된 메서드일 경우 True\n",
    "- isfunction(obj): (클래스에 종속되지 않은) 함수일 경우(=callable인경우) True\n",
    "- isroutine(obj): 함수, 메서드인 경우 True\n",
    "- 많은 IDE가 TODO comment를 색칠해서 보여주곤 하는데, 이 때 inspect.getcomments를 사용한다."
   ],
   "metadata": {
    "collapsed": false,
    "pycharm": {
     "name": "#%% md\n"
    }
   }
  },
  {
   "cell_type": "code",
   "execution_count": 28,
   "outputs": [
    {
     "name": "stdout",
     "output_type": "stream",
     "text": [
      "def my_func(a, b=2, *args, **kwargs):\n",
      "    \"\"\"this is docs\"\"\"\n",
      "    i = 111  # some coment\n",
      "    # TODO: todo\n",
      "    b = min(i, b)\n",
      "    # comment!!!\n",
      "    return a * b\n",
      "\n",
      "<module '__main__'>\n",
      "<module 'builtins' (built-in)>\n",
      "None\n"
     ]
    }
   ],
   "source": [
    "def my_func(a, b=2, *args, **kwargs):\n",
    "    \"\"\"this is docs\"\"\"\n",
    "    i = 111  # some coment\n",
    "    # TODO: todo\n",
    "    b = min(i, b)\n",
    "    # comment!!!\n",
    "    return a * b\n",
    "\n",
    "import inspect\n",
    "print(inspect.getsource(my_func))\n",
    "print(inspect.getmodule(my_func))\n",
    "print(inspect.getmodule(print))\n",
    "print(inspect.getcomments(my_func))\n",
    "# 근데 getcomments는 왜 값을 못읽고 None이 뜨는거지??"
   ],
   "metadata": {
    "collapsed": false,
    "pycharm": {
     "name": "#%%\n"
    }
   }
  },
  {
   "cell_type": "markdown",
   "source": [
    "#### Callable Signatures\n",
    "- inspect.signature(my_func) -> Signature instance\n",
    "- contains and attribute called parameters\n",
    "- Essentially a dictionary of parameter names(keys), and metadata about the parameters(vaules)\n",
    "    - key -> parameter name\n",
    "    - values -> object with attributes such as name, default, annotation, kind\n",
    "- kind\n",
    "    - POSITIONAL_OR_KEYWORD\n",
    "    - VAR_POSITIONAL\n",
    "    - KEYWORD_ONLY\n",
    "    - VAR_KEYWORD\n",
    "    - POSITIONAL_ONLY"
   ],
   "metadata": {
    "collapsed": false
   }
  },
  {
   "cell_type": "code",
   "execution_count": 33,
   "outputs": [
    {
     "name": "stdout",
     "output_type": "stream",
     "text": [
      "(a: str, b: int, c=3, *args, **kwargs)\n",
      "name a\n",
      "default <class 'inspect._empty'>\n",
      "annotation <class 'str'>\n",
      "kind POSITIONAL_OR_KEYWORD\n",
      "name b\n",
      "default <class 'inspect._empty'>\n",
      "annotation <class 'int'>\n",
      "kind POSITIONAL_OR_KEYWORD\n",
      "name c\n",
      "default 3\n",
      "annotation <class 'inspect._empty'>\n",
      "kind POSITIONAL_OR_KEYWORD\n",
      "name args\n",
      "default <class 'inspect._empty'>\n",
      "annotation <class 'inspect._empty'>\n",
      "kind VAR_POSITIONAL\n",
      "name kwargs\n",
      "default <class 'inspect._empty'>\n",
      "annotation <class 'inspect._empty'>\n",
      "kind VAR_KEYWORD\n"
     ]
    }
   ],
   "source": [
    "def my_func(\n",
    "        a: str,\n",
    "        b: int,\n",
    "        c=3,\n",
    "        *args,\n",
    "        **kwargs):\n",
    "    \"\"\"docs\"\"\"\n",
    "    i = 111\n",
    "    b = min(i, b)\n",
    "    return a * b\n",
    "\n",
    "import inspect\n",
    "\n",
    "print(inspect.signature(my_func))\n",
    "\n",
    "for param in inspect.signature(my_func).parameters.values():\n",
    "    print(\"name\", param.name)\n",
    "    print(\"default\", param.default)\n",
    "    print(\"annotation\", param.annotation)\n",
    "    print(\"kind\", param.kind)\n",
    "\n",
    "\n",
    "\n",
    "\n",
    "\n",
    "\n",
    "\n"
   ],
   "metadata": {
    "collapsed": false,
    "pycharm": {
     "name": "#%%\n"
    }
   }
  },
  {
   "cell_type": "markdown",
   "source": [
    "## Callables\n",
    "- any object that can be called using the () operator\n",
    "#### different types of callables\n",
    "- built-in functions: print, len 등등\n",
    "- built-in methods: str.upper, list.append 등등\n",
    "- user-defined functions: def, labmda 등등\n",
    "- methods\n",
    "- classes:\n",
    "  - instance 생성시 MyClass() 형태로 호출 -> callable임\n",
    "  - 참고로 클래스 호출시 `__new__` ->`__init__`형태로 호출된다.\n",
    "  - `__new__`에서 이미 인스턴스가 생성된다. `__init__`의 첫 param self에 new에서 생성된 instance가 전달됨.\n",
    "- class instances: `__call__`을 정의하면 인스턴스도 callable이된다.\n",
    "\n"
   ],
   "metadata": {
    "collapsed": false,
    "pycharm": {
     "name": "#%% md\n"
    }
   }
  },
  {
   "cell_type": "markdown",
   "source": [
    "## Map, Filter, Zip and List Comprehensions\n",
    "### higher order functions\n",
    "- a function that takes a function as a parameter and/or returns a function as its return value\n",
    "- map, filter는 higher order function인데 list comprehension과 generator expressions으로 대체 가능하다(modern alternative)\n",
    "\n",
    "### map(func, *iterables)\n",
    "- *iterables: a variable number of iterable objects\n",
    "- func: some function that takes as many arguments as there are iterable objects passed to iterables\n",
    "- map function return an iterator that caculates the function applied to each element of the iterables\n",
    "- The iterator stops as soon as one of the iterables has benn exhausted so, unequal length iterables can be used"
   ],
   "metadata": {
    "collapsed": false
   }
  },
  {
   "cell_type": "code",
   "execution_count": 6,
   "outputs": [
    {
     "name": "stdout",
     "output_type": "stream",
     "text": [
      "<map object at 0x119f4c670>\n",
      "[1, 4, 9]\n",
      "[11, 22, 33]\n",
      "[111, 222, 333]\n"
     ]
    }
   ],
   "source": [
    "l = [1,2,3]\n",
    "\n",
    "def sq(x):\n",
    "    return x ** 2\n",
    "\n",
    "print(map(sq, l))\n",
    "print(list(map(sq, l)))\n",
    "\n",
    "l1 = [1, 2, 3]\n",
    "l2 = [10, 20, 30]\n",
    "l3 = [100, 200, 300]\n",
    "\n",
    "def add(x, y):\n",
    "    return x + y\n",
    "\n",
    "print(list(map(add, l1, l2)))\n",
    "\n",
    "res = map(lambda x, y, z: x + y + z, l1, l2, l3)\n",
    "print(list(res))"
   ],
   "metadata": {
    "collapsed": false,
    "pycharm": {
     "name": "#%%\n"
    }
   }
  },
  {
   "cell_type": "markdown",
   "source": [
    "### filter(func, iterable)\n",
    "- iterable: a single iterable\n",
    "- func: some function that takes a single argument\n",
    "- filter() will then return an iterator that contains all the elements of the iterable for which the function called on it is Truthy\n",
    "- If the function is None, it simply returns the elements of iterable that are truthy\n"
   ],
   "metadata": {
    "collapsed": false,
    "pycharm": {
     "name": "#%% md\n"
    }
   }
  },
  {
   "cell_type": "code",
   "execution_count": 13,
   "outputs": [
    {
     "name": "stdout",
     "output_type": "stream",
     "text": [
      "[1, 2, 3, 4]\n",
      "[0, 2, 4]\n",
      "[11]\n"
     ]
    }
   ],
   "source": [
    "l = [i for i in range(5)]\n",
    "res = filter(None, l)\n",
    "print(list(res))\n",
    "\n",
    "def is_even(number):\n",
    "    return number % 2 == 0\n",
    "\n",
    "res = filter(is_even, l)\n",
    "print(list(res))\n",
    "\n",
    "res = filter(lambda x: x>10, [1,5,10,11])\n",
    "print(list(res))\n"
   ],
   "metadata": {
    "collapsed": false,
    "pycharm": {
     "name": "#%%\n"
    }
   }
  },
  {
   "cell_type": "markdown",
   "source": [
    "### zip"
   ],
   "metadata": {
    "collapsed": false,
    "pycharm": {
     "name": "#%% md\n"
    }
   }
  },
  {
   "cell_type": "code",
   "execution_count": 17,
   "outputs": [
    {
     "name": "stdout",
     "output_type": "stream",
     "text": [
      "[(1, 4), (2, 5), (3, 6)]\n",
      "[(1, 4, 6), (2, 5, 7), (3, 6, 8)]\n",
      "[(1, 6), (2, 7), (3, 8)]\n"
     ]
    }
   ],
   "source": [
    "l1 = [1,2,3]\n",
    "l2 = [4,5,6]\n",
    "l3 = [6,7,8,9,10]\n",
    "\n",
    "res = zip(l1, l2)\n",
    "print(list(res))\n",
    "\n",
    "res = zip(l1, l2, l3)\n",
    "print(list(res))\n",
    "\n",
    "res = zip(l1, l3)\n",
    "print(list(res))"
   ],
   "metadata": {
    "collapsed": false,
    "pycharm": {
     "name": "#%%\n"
    }
   }
  },
  {
   "cell_type": "markdown",
   "source": [
    "### combining map, filter"
   ],
   "metadata": {
    "collapsed": false,
    "pycharm": {
     "name": "#%% md\n"
    }
   },
   "outputs": [
    {
     "name": "stdout",
     "output_type": "stream",
     "text": [
      "[0, 1, 4, 9, 16]\n"
     ]
    }
   ],
   "execution_count": 18
  },
  {
   "cell_type": "code",
   "execution_count": 20,
   "outputs": [
    {
     "name": "stdout",
     "output_type": "stream",
     "text": [
      "[0, 1, 4, 9, 16]\n",
      "[0, 1, 4, 9, 16]\n"
     ]
    }
   ],
   "source": [
    "l = range(10)\n",
    "res = filter(lambda y: y < 25, map(lambda x: x**2, l))\n",
    "print(list(res))\n",
    "\n",
    "# list comprehension으로 대체하기(더 가독성이 좋음)\n",
    "res = [x**2 for x in l if x **2 < 25]\n",
    "print(res)\n"
   ],
   "metadata": {
    "collapsed": false,
    "pycharm": {
     "name": "#%%\n"
    }
   }
  },
  {
   "cell_type": "markdown",
   "source": [
    "## Reducing Functions"
   ],
   "metadata": {
    "collapsed": false
   }
  },
  {
   "cell_type": "markdown",
   "source": [
    "## Partial Functions\n",
    "- idea behind partial functions: how to reduce number of required args\n",
    "- my_func의 args를 줄이기 위해 아래처럼 할 수 있다."
   ],
   "metadata": {
    "collapsed": false
   }
  },
  {
   "cell_type": "code",
   "execution_count": 2,
   "outputs": [
    {
     "name": "stdout",
     "output_type": "stream",
     "text": [
      "10 2 3\n"
     ]
    }
   ],
   "source": [
    "def my_func(a,b,c):\n",
    "    print(a,b,c)\n",
    "\n",
    "\n",
    "def fn(b, c):\n",
    "    return my_func(10, b, c)\n",
    "\n",
    "f = lambda b, c: my_func(10, b, c)\n",
    "\n",
    "from functools import partial\n",
    "\n",
    "f = partial(my_func, 10)\n",
    "\n",
    "f(2,3)"
   ],
   "metadata": {
    "collapsed": false,
    "pycharm": {
     "name": "#%%\n"
    }
   }
  },
  {
   "cell_type": "markdown",
   "source": [
    "#### partial 사용 예제"
   ],
   "metadata": {
    "collapsed": false,
    "pycharm": {
     "name": "#%% md\n"
    }
   }
  },
  {
   "cell_type": "code",
   "execution_count": 6,
   "outputs": [
    {
     "name": "stdout",
     "output_type": "stream",
     "text": [
      "25\n",
      "125\n",
      "125\n",
      "125\n"
     ]
    }
   ],
   "source": [
    "def my_func(a, b, *args, k1, k2, **kwargs):\n",
    "    print(a,b,args,k1,k2,kwargs)\n",
    "\n",
    "f = partial(my_func, 10, k1=\"a\")\n",
    "\n",
    "\n",
    "def pow(base, exponent):\n",
    "    return base ** exponent\n",
    "\n",
    "square = partial(pow, exponent=2)\n",
    "cube = partial(pow, exponent=3)\n",
    "\n",
    "print(square(5))\n",
    "print(cube(5))\n",
    "print(cube(base=5))\n",
    "print(square(5, exponent=3))"
   ],
   "metadata": {
    "collapsed": false,
    "pycharm": {
     "name": "#%%\n"
    }
   }
  },
  {
   "cell_type": "markdown",
   "source": [
    "#### 주의사항\n",
    "<img width=\"1037\" alt=\"스크린샷 2022-02-16 오전 9 16 51\" src=\"https://user-images.githubusercontent.com/60768642/154171957-0281d0ed-45f1-4a2f-93be-2631f51264af.png\">\n"
   ],
   "metadata": {
    "collapsed": false,
    "pycharm": {
     "name": "#%% md\n"
    }
   }
  },
  {
   "cell_type": "markdown",
   "source": [
    "## The operator modules"
   ],
   "metadata": {
    "collapsed": false
   }
  }
 ],
 "metadata": {
  "kernelspec": {
   "display_name": "Python 3",
   "language": "python",
   "name": "python3"
  },
  "language_info": {
   "codemirror_mode": {
    "name": "ipython",
    "version": 2
   },
   "file_extension": ".py",
   "mimetype": "text/x-python",
   "name": "python",
   "nbconvert_exporter": "python",
   "pygments_lexer": "ipython2",
   "version": "2.7.6"
  }
 },
 "nbformat": 4,
 "nbformat_minor": 0
}